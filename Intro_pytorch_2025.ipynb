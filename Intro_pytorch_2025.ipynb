{
  "cells": [
    {
      "cell_type": "markdown",
      "metadata": {
        "id": "view-in-github",
        "colab_type": "text"
      },
      "source": [
        "<a href=\"https://colab.research.google.com/github/victorm0202/temas_selectos_CD-25/blob/main/Intro_pytorch_2025.ipynb\" target=\"_parent\"><img src=\"https://colab.research.google.com/assets/colab-badge.svg\" alt=\"Open In Colab\"/></a>"
      ]
    },
    {
      "cell_type": "markdown",
      "source": [
        "# Pytorch para redes neuronales"
      ],
      "metadata": {
        "id": "Gi_YVzyLkrhC"
      }
    },
    {
      "cell_type": "markdown",
      "source": [
        "## Introducción\n",
        "\n",
        "Consideremos modelos de aprendizaje simples y sus generalizaciones.\n",
        "\n",
        "![fig](https://drive.google.com/uc?id=1EVxiwcUMvKcG-h2aa-HuQ6Qcaat5lXsH)\n",
        "\n",
        "Estos modelos pueden ser usados para ML supervisado y no supervisado. Nosotros nos enfocaremos en ML supervisado, es decir, para problemas de regresión:\n",
        "\n",
        "![fig](https://drive.google.com/uc?id=1YunSQkygK_o18L9zhiINLVbTN-PKZqB2)\n",
        "\n",
        "![fig](https://drive.google.com/uc?id=1_D5AhWteSnT2-WyyPNbjNvhdEeAMeSb1)\n",
        "\n",
        "y clasificación, principalmente:\n",
        "\n",
        "![fig](https://drive.google.com/uc?id=1yJyJo6tDW1DxoXrqiFmf_sWGvtLmT_Tm)\n",
        "\n",
        "![fig](https://drive.google.com/uc?id=1MAMcz2cStlsH0Ly88LvgRKkvwoVtoU-R)\n",
        "\n",
        "\n"
      ],
      "metadata": {
        "id": "i4U7Z16g2yy-"
      }
    },
    {
      "cell_type": "markdown",
      "source": [
        "La forma de **generalizar** éstos modelos simples, es agregar y combinar más modelos simples (o modelos base), y realizar *transformaciones* a las funciones de entrada de éstos modelos **en forma secuencial**.\n",
        "\n",
        "![fig](https://drive.google.com/uc?id=1eNJYJ2ZWLmcXxydtD9SbvOQj1iXRU10i)\n",
        "\n",
        "![fig](https://drive.google.com/uc?id=1pNUVyASJ4Dwte0Xj3k1OMgoqcx2Hv23f)\n",
        "\n"
      ],
      "metadata": {
        "id": "22HxXH6PUVmO"
      }
    },
    {
      "cell_type": "markdown",
      "source": [
        "Los modelos de ML con éstas características (combinaciones y activaciones de modelos base en forma secuencial), pueden ajustarse con un esquema muy simple que tiene dos pasos principales:\n",
        "- Forward propagation\n",
        "- Backpropagation\n",
        "\n",
        "![fig](https://drive.google.com/uc?id=1KrHuVk9-4YlbJi1AvgsIJig2wCDdZaKM)\n",
        "\n"
      ],
      "metadata": {
        "id": "tRaZwrF0Yqyy"
      }
    },
    {
      "cell_type": "markdown",
      "source": [
        "**(PARÉNTESIS)**: Breve explicación sobre el proceso de ajuste y backpropagation. [láminas auxiliares]."
      ],
      "metadata": {
        "id": "4uAS8VrKdTTX"
      }
    },
    {
      "cell_type": "markdown",
      "source": [
        "Este esquema es el mismo incluso para modelos sofisticados.\n",
        "\n",
        "Aunque backpropagation es en apariencia simple, computacionalmente puede ser muy complejo, sobre todo para tareas de ML que involucran datos y arquitecturas muy complejas. Entonces, es muy importante tener una infraestructura de cómputo eficiente."
      ],
      "metadata": {
        "id": "PEjIfeOzdj_N"
      }
    },
    {
      "cell_type": "markdown",
      "source": [
        "## Infraestructuras de cómputo para Deep Learning\n",
        "\n",
        "Un proyecto de ML-DL: el panorama general.\n",
        "\n",
        "![landscape](https://drive.google.com/uc?id=1fnqj274aECr7z7XbsLoAWTHbnfdix9ir)\n",
        "\n",
        "(E. Stevens et al., \"Deep learning with Pytorch\")\n"
      ],
      "metadata": {
        "id": "9ayjg2_JkKnF"
      }
    },
    {
      "cell_type": "markdown",
      "source": [
        "## Hardware.\n",
        "\n",
        "CPU (central process unit), GPU (graphic process unit), TPU (tensor process unit).\n",
        "\n",
        "![hardware](https://drive.google.com/uc?id=1OnlzBkQrNXC0_7uwLQ5Dia4EIp4d310a)\n",
        "\n"
      ],
      "metadata": {
        "id": "Ntkj7-vgEMnT"
      }
    },
    {
      "cell_type": "markdown",
      "source": [
        "## Software.\n",
        "\n",
        "Actualmente, hay software especializado en manejo y operaciones con estructuras de datos apropiadas para redes neuronales profundas. Algunas tienen separado backend y frontend. Keras, por ejemplo, es una API que puede ejecutarse con ciertos backends, como tensorflow, theano, entre otros.\n",
        "\n",
        "![software](https://drive.google.com/uc?id=1avbztqDEjSEiAaS1ZiMWqWitYS2-CyBc)\n",
        "\n",
        "Ver también [Comparación de software para DL](https://en.wikipedia.org/wiki/Comparison_of_deep-learning_software#Comparison_of_compatibility_of_machine_learning_models)."
      ],
      "metadata": {
        "id": "-1R1PDY-mRVW"
      }
    },
    {
      "cell_type": "markdown",
      "source": [
        "## Infraestructuras de software"
      ],
      "metadata": {
        "id": "-PXCq_sprzqF"
      }
    },
    {
      "cell_type": "markdown",
      "source": [
        "\n",
        "\n",
        "### Tensorflow\n",
        "\n",
        "![tf1](https://drive.google.com/uc?id=1mEs8ic5eo0aIjk5h3JgWRXauIVH4NPGU)\n",
        "\n",
        "![tf2](https://drive.google.com/uc?id=1a3hyNNdWbpjXSeQwjql3wcMEXxNqRTdf)\n"
      ],
      "metadata": {
        "id": "ZHfAxAY8myNq"
      }
    },
    {
      "cell_type": "markdown",
      "source": [
        "### Pytorch\n",
        "\n",
        "![pytorch1](https://drive.google.com/uc?id=1PjsCNf4pvI-WNk9F_Q_e4T8HB4O8Qy91)\n",
        "\n",
        "- Escrito en C++ y CUDA\n",
        "- API en python\n",
        "- Dos elementos principales:\n",
        "  1.   Tensors\n",
        "  2.   Autograd\n",
        "\n",
        "\n",
        "\n",
        "\n"
      ],
      "metadata": {
        "id": "B1ws_rGBoEm4"
      }
    },
    {
      "cell_type": "markdown",
      "source": [
        "# Introducción a Pytorch"
      ],
      "metadata": {
        "id": "B1joqcAEVS3n"
      }
    },
    {
      "cell_type": "markdown",
      "metadata": {
        "id": "1tUFIYoOOfGm"
      },
      "source": [
        "## Tensors\n",
        "\n",
        "Tensors are a specialized data structure that are very similar to arrays and matrices.\n",
        "In PyTorch, we use tensors to encode the inputs and outputs of a model, as well as the model’s parameters.\n",
        "\n",
        "![tensors1](https://drive.google.com/uc?id=1SjbnWUbLg7ssJojwlZUnNt-97UHwUcJY)\n",
        "![tensors2](https://drive.google.com/uc?id=1-_slE61Afr2aqn12GIV9fkQ7UzXaJk0N)\n",
        "![tensors3](https://drive.google.com/uc?id=1fM3jRALD4IgACg-HOkL8AsCcgY3n5U73)\n",
        "\n",
        "\n"
      ]
    },
    {
      "cell_type": "markdown",
      "source": [
        "Numpy tensors:"
      ],
      "metadata": {
        "id": "sM50DRRJtEuV"
      }
    },
    {
      "cell_type": "code",
      "source": [
        "import numpy as np\n",
        "x = np.array(12)\n",
        "x.ndim"
      ],
      "metadata": {
        "colab": {
          "base_uri": "https://localhost:8080/"
        },
        "id": "M16g21gNshh8",
        "outputId": "cf8c36d5-1705-4e50-9d72-f2e26265f136"
      },
      "execution_count": 1,
      "outputs": [
        {
          "output_type": "execute_result",
          "data": {
            "text/plain": [
              "0"
            ]
          },
          "metadata": {},
          "execution_count": 1
        }
      ]
    },
    {
      "cell_type": "code",
      "source": [
        "x = np.array([12, 3, 6, 14])\n",
        "print('X:',x)\n",
        "print('ndim:',x.ndim)"
      ],
      "metadata": {
        "colab": {
          "base_uri": "https://localhost:8080/"
        },
        "id": "sExb5mVitWjh",
        "outputId": "f52e7c8e-28e3-430f-cdf0-346a5db9c2e1"
      },
      "execution_count": null,
      "outputs": [
        {
          "output_type": "stream",
          "name": "stdout",
          "text": [
            "X: [12  3  6 14]\n",
            "ndim: 1\n"
          ]
        }
      ]
    },
    {
      "cell_type": "code",
      "source": [
        "x = np.array([[5, 78, 2, 34, 0],\n",
        "[6, 79, 3, 35, 1],\n",
        "[7, 80, 4, 36, 2]])\n",
        "print('X:',x)\n",
        "print('ndim:',x.ndim)"
      ],
      "metadata": {
        "colab": {
          "base_uri": "https://localhost:8080/"
        },
        "id": "u4TVRWfEFz-K",
        "outputId": "74f42d87-829a-4ac1-e7b6-35fb9a806026"
      },
      "execution_count": null,
      "outputs": [
        {
          "output_type": "stream",
          "name": "stdout",
          "text": [
            "X: [[ 5 78  2 34  0]\n",
            " [ 6 79  3 35  1]\n",
            " [ 7 80  4 36  2]]\n",
            "ndim: 2\n"
          ]
        }
      ]
    },
    {
      "cell_type": "code",
      "source": [
        "x = np.array([[[5, 78, 2, 34, 0],\n",
        "                   [5, 79, 3, 35, 1],\n",
        "                   [5, 80, 4, 36, 2]],\n",
        "                  [[5, 78, 2, 34, 0],\n",
        "                   [5, 79, 3, 35, 1],\n",
        "                   [5, 80, 4, 36, 2]],\n",
        "                  [[5, 78, 2, 34, 0],\n",
        "                   [5, 79, 3, 35, 1],\n",
        "                   [5, 80, 4, 36, 2]]])\n",
        "print('X:',x)\n",
        "print('ndim:',x.ndim)"
      ],
      "metadata": {
        "colab": {
          "base_uri": "https://localhost:8080/"
        },
        "id": "nBtZyq7UGPAQ",
        "outputId": "acb0a134-2dc2-4c9e-904d-c6345e2c07d2"
      },
      "execution_count": null,
      "outputs": [
        {
          "output_type": "stream",
          "name": "stdout",
          "text": [
            "X: [[[ 5 78  2 34  0]\n",
            "  [ 5 79  3 35  1]\n",
            "  [ 5 80  4 36  2]]\n",
            "\n",
            " [[ 5 78  2 34  0]\n",
            "  [ 5 79  3 35  1]\n",
            "  [ 5 80  4 36  2]]\n",
            "\n",
            " [[ 5 78  2 34  0]\n",
            "  [ 5 79  3 35  1]\n",
            "  [ 5 80  4 36  2]]]\n",
            "ndim: 3\n"
          ]
        }
      ]
    },
    {
      "cell_type": "markdown",
      "source": [
        "Tensors are similar to `NumPy’s` [numpy](https://numpy.org/) ndarrays, except that tensors can run on GPUs or other hardware accelerators. In fact, tensors and\n",
        "NumPy arrays can often share the same underlying memory, eliminating the need to copy data (see `bridge-to-np-label`). Tensors\n",
        "are also optimized for automatic differentiation."
      ],
      "metadata": {
        "id": "0J7QTGZcs_QZ"
      }
    },
    {
      "cell_type": "code",
      "execution_count": 2,
      "metadata": {
        "id": "yjLGn7VvOfGh"
      },
      "outputs": [],
      "source": [
        "%matplotlib inline"
      ]
    },
    {
      "cell_type": "code",
      "execution_count": 3,
      "metadata": {
        "id": "6I1_cLxpOfGp"
      },
      "outputs": [],
      "source": [
        "import torch\n",
        "import numpy as np"
      ]
    },
    {
      "cell_type": "markdown",
      "source": [
        "![landscape](https://drive.google.com/uc?id=1I41oqZQK3CoxbF8ZAsowMnpANAapNUWt)\n",
        "\n",
        "(E. Stevens et al., \"Deep learning with Pytorch\")\n"
      ],
      "metadata": {
        "id": "ervPM1siIJaF"
      }
    },
    {
      "cell_type": "markdown",
      "metadata": {
        "id": "YQsS613LOfGq"
      },
      "source": [
        "### Initializing a Tensor\n",
        "\n",
        "\n",
        "Tensors can be initialized in various ways. Take a look at the following examples:\n",
        "\n",
        "**Directly from data**\n",
        "\n",
        "Tensors can be created directly from data. The data type is automatically inferred.\n",
        "\n"
      ]
    },
    {
      "cell_type": "code",
      "execution_count": null,
      "metadata": {
        "colab": {
          "base_uri": "https://localhost:8080/"
        },
        "id": "o8AqFVA_OfGr",
        "outputId": "48f351fc-4aca-480e-d98e-57473fc240fa"
      },
      "outputs": [
        {
          "output_type": "execute_result",
          "data": {
            "text/plain": [
              "tensor([[1, 2],\n",
              "        [3, 4]])"
            ]
          },
          "metadata": {},
          "execution_count": 7
        }
      ],
      "source": [
        "data = [[1, 2],[3, 4]]\n",
        "x_data = torch.tensor(data)\n",
        "x_data"
      ]
    },
    {
      "cell_type": "markdown",
      "metadata": {
        "id": "3tKd0e36OfGr"
      },
      "source": [
        "**From a NumPy array**\n",
        "\n",
        "Tensors can be created from NumPy arrays (and vice versa - see `bridge-to-np-label`).\n",
        "\n"
      ]
    },
    {
      "cell_type": "code",
      "execution_count": null,
      "metadata": {
        "id": "nfgCxF6UOfGs"
      },
      "outputs": [],
      "source": [
        "np_array = np.array(data)\n",
        "x_np = torch.from_numpy(np_array)"
      ]
    },
    {
      "cell_type": "markdown",
      "metadata": {
        "id": "QNSbEeuLOfGt"
      },
      "source": [
        "**From another tensor:**\n",
        "\n",
        "The new tensor retains the properties (shape, datatype) of the argument tensor, unless explicitly overridden.\n",
        "\n"
      ]
    },
    {
      "cell_type": "code",
      "execution_count": null,
      "metadata": {
        "colab": {
          "base_uri": "https://localhost:8080/"
        },
        "id": "HJr4X0CeOfGt",
        "outputId": "6674bc17-be15-4b5d-f304-cafeb7cfbf82"
      },
      "outputs": [
        {
          "output_type": "stream",
          "name": "stdout",
          "text": [
            "Ones Tensor: \n",
            " tensor([[1, 1],\n",
            "        [1, 1]]) \n",
            "\n",
            "Random Tensor: \n",
            " tensor([[0.6921, 0.7769],\n",
            "        [0.7416, 0.3810]]) \n",
            "\n"
          ]
        }
      ],
      "source": [
        "x_ones = torch.ones_like(x_data) # retains the properties of x_data\n",
        "print(f\"Ones Tensor: \\n {x_ones} \\n\")\n",
        "\n",
        "x_rand = torch.rand_like(x_data, dtype=torch.float) # overrides the datatype of x_data\n",
        "print(f\"Random Tensor: \\n {x_rand} \\n\")"
      ]
    },
    {
      "cell_type": "markdown",
      "metadata": {
        "id": "HpCSxkEvOfGu"
      },
      "source": [
        "**With random or constant values:**\n",
        "\n",
        "``shape`` is a tuple of tensor dimensions. In the functions below, it determines the dimensionality of the output tensor.\n",
        "\n"
      ]
    },
    {
      "cell_type": "code",
      "execution_count": null,
      "metadata": {
        "colab": {
          "base_uri": "https://localhost:8080/"
        },
        "id": "1XHoXB61OfGu",
        "outputId": "4f59f89b-d959-4e5b-8465-6b4dcfe2d59f"
      },
      "outputs": [
        {
          "output_type": "stream",
          "name": "stdout",
          "text": [
            "Random Tensor: \n",
            " tensor([[0.0184, 0.6797, 0.5955],\n",
            "        [0.1235, 0.2540, 0.9986]]) \n",
            "\n",
            "Ones Tensor: \n",
            " tensor([[1., 1., 1.],\n",
            "        [1., 1., 1.]]) \n",
            "\n",
            "Zeros Tensor: \n",
            " tensor([[0., 0., 0.],\n",
            "        [0., 0., 0.]])\n"
          ]
        }
      ],
      "source": [
        "shape = (2,3,)\n",
        "rand_tensor = torch.rand(shape)\n",
        "ones_tensor = torch.ones(shape)\n",
        "zeros_tensor = torch.zeros(shape)\n",
        "\n",
        "print(f\"Random Tensor: \\n {rand_tensor} \\n\")\n",
        "print(f\"Ones Tensor: \\n {ones_tensor} \\n\")\n",
        "print(f\"Zeros Tensor: \\n {zeros_tensor}\")"
      ]
    },
    {
      "cell_type": "markdown",
      "metadata": {
        "id": "pv6jPyQdOfGv"
      },
      "source": [
        "--------------\n",
        "\n",
        "\n"
      ]
    },
    {
      "cell_type": "markdown",
      "metadata": {
        "id": "yZZ5q3jPOfGv"
      },
      "source": [
        "### Attributes of a Tensor\n",
        "\n",
        "Tensor attributes describe their shape, datatype, and the device on which they are stored.\n",
        "\n"
      ]
    },
    {
      "cell_type": "code",
      "execution_count": null,
      "metadata": {
        "colab": {
          "base_uri": "https://localhost:8080/"
        },
        "id": "oCXQsErDOfGw",
        "outputId": "8c84866d-bebd-4f26-86bc-84918b990b88"
      },
      "outputs": [
        {
          "output_type": "stream",
          "name": "stdout",
          "text": [
            "Shape of tensor: torch.Size([3, 4])\n",
            "Datatype of tensor: torch.float32\n",
            "Device tensor is stored on: cpu\n"
          ]
        }
      ],
      "source": [
        "tensor = torch.rand(3,4)\n",
        "\n",
        "print(f\"Shape of tensor: {tensor.shape}\")\n",
        "print(f\"Datatype of tensor: {tensor.dtype}\")\n",
        "print(f\"Device tensor is stored on: {tensor.device}\")"
      ]
    },
    {
      "cell_type": "markdown",
      "metadata": {
        "id": "1kYJF-9gOfGw"
      },
      "source": [
        "--------------\n",
        "\n",
        "\n"
      ]
    },
    {
      "cell_type": "markdown",
      "metadata": {
        "id": "35bnZVOSOfGx"
      },
      "source": [
        "### Operations on Tensors\n",
        "\n",
        "Over 100 tensor operations, including arithmetic, linear algebra, matrix manipulation (transposing,\n",
        "indexing, slicing), sampling and more are\n",
        "comprehensively described `here` <https://pytorch.org/docs/stable/torch.html>.\n",
        "\n",
        "Each of these operations can be run on the GPU (at typically higher speeds than on a\n",
        "CPU). If you’re using Colab, allocate a GPU by going to Runtime > Change runtime type > GPU.\n",
        "\n",
        "By default, tensors are created on the CPU. We need to explicitly move tensors to the GPU using\n",
        "``.to`` method (after checking for GPU availability). Keep in mind that copying large tensors\n",
        "across devices can be expensive in terms of time and memory!\n",
        "\n"
      ]
    },
    {
      "cell_type": "code",
      "execution_count": null,
      "metadata": {
        "id": "qYi6FQZOOfGx"
      },
      "outputs": [],
      "source": [
        "# We move our tensor to the GPU if available\n",
        "if torch.cuda.is_available():\n",
        "    tensor = tensor.to(\"cuda\")"
      ]
    },
    {
      "cell_type": "code",
      "source": [
        "tensor.device"
      ],
      "metadata": {
        "colab": {
          "base_uri": "https://localhost:8080/"
        },
        "id": "Du_iD-x7Wwpf",
        "outputId": "2297a57d-9429-4454-e13b-6874233f1589"
      },
      "execution_count": null,
      "outputs": [
        {
          "output_type": "execute_result",
          "data": {
            "text/plain": [
              "device(type='cuda', index=0)"
            ]
          },
          "metadata": {},
          "execution_count": 8
        }
      ]
    },
    {
      "cell_type": "markdown",
      "metadata": {
        "id": "ZMNhh4x1OfGx"
      },
      "source": [
        "Try out some of the operations from the list.\n",
        "If you're familiar with the NumPy API, you'll find the Tensor API a breeze to use.\n",
        "\n",
        "\n"
      ]
    },
    {
      "cell_type": "markdown",
      "metadata": {
        "id": "oBFmS4lTOfGy"
      },
      "source": [
        "**Standard numpy-like indexing and slicing:**\n",
        "\n"
      ]
    },
    {
      "cell_type": "code",
      "execution_count": null,
      "metadata": {
        "colab": {
          "base_uri": "https://localhost:8080/"
        },
        "id": "d2OuaymYOfGy",
        "outputId": "8537f374-58f8-44db-aafe-b75ba6a8457a"
      },
      "outputs": [
        {
          "output_type": "stream",
          "name": "stdout",
          "text": [
            "First row: tensor([1., 1., 1., 1.])\n",
            "First column: tensor([1., 1., 1., 1.])\n",
            "Last column: tensor([1., 1., 1., 1.])\n",
            "tensor([[1., 0., 1., 1.],\n",
            "        [1., 0., 1., 1.],\n",
            "        [1., 0., 1., 1.],\n",
            "        [1., 0., 1., 1.]])\n"
          ]
        }
      ],
      "source": [
        "tensor = torch.ones(4, 4)\n",
        "print(f\"First row: {tensor[0]}\")\n",
        "print(f\"First column: {tensor[:, 0]}\")\n",
        "print(f\"Last column: {tensor[..., -1]}\")\n",
        "tensor[:,1] = 0\n",
        "print(tensor)"
      ]
    },
    {
      "cell_type": "markdown",
      "metadata": {
        "id": "5cw5gxQqOfGy"
      },
      "source": [
        "**Joining tensors** You can use ``torch.cat`` to concatenate a sequence of tensors along a given dimension.\n",
        "See also [torch.stack](https://pytorch.org/docs/stable/generated/torch.stack.html),\n",
        "another tensor joining op that is subtly different from ``torch.cat``.\n",
        "\n"
      ]
    },
    {
      "cell_type": "code",
      "execution_count": null,
      "metadata": {
        "colab": {
          "base_uri": "https://localhost:8080/"
        },
        "id": "3zilTUi4OfGy",
        "outputId": "9eb1ca2a-ca9a-43d4-a363-e72bcb31fa42"
      },
      "outputs": [
        {
          "output_type": "stream",
          "name": "stdout",
          "text": [
            "tensor([[1., 0., 1., 1., 1., 0., 1., 1., 1., 0., 1., 1.],\n",
            "        [1., 0., 1., 1., 1., 0., 1., 1., 1., 0., 1., 1.],\n",
            "        [1., 0., 1., 1., 1., 0., 1., 1., 1., 0., 1., 1.],\n",
            "        [1., 0., 1., 1., 1., 0., 1., 1., 1., 0., 1., 1.]])\n"
          ]
        }
      ],
      "source": [
        "t1 = torch.cat([tensor, tensor, tensor], dim=1)\n",
        "print(t1)"
      ]
    },
    {
      "cell_type": "markdown",
      "metadata": {
        "id": "0oehVqylOfGy"
      },
      "source": [
        "**Arithmetic operations**\n",
        "\n"
      ]
    },
    {
      "cell_type": "code",
      "execution_count": null,
      "metadata": {
        "colab": {
          "base_uri": "https://localhost:8080/"
        },
        "id": "maIxGBmoOfGz",
        "outputId": "7ab78529-4ed0-4d95-818b-d8dbe4c12879"
      },
      "outputs": [
        {
          "output_type": "execute_result",
          "data": {
            "text/plain": [
              "tensor([[3., 3., 3., 3.],\n",
              "        [3., 3., 3., 3.],\n",
              "        [3., 3., 3., 3.],\n",
              "        [3., 3., 3., 3.]])"
            ]
          },
          "metadata": {},
          "execution_count": 15
        }
      ],
      "source": [
        "# This computes the matrix multiplication between two tensors. y1, y2, y3 will have the same value\n",
        "y1 = tensor @ tensor.T\n",
        "y2 = tensor.matmul(tensor.T)\n",
        "\n",
        "y3 = torch.rand_like(y1)\n",
        "torch.matmul(tensor, tensor.T, out=y3)"
      ]
    },
    {
      "cell_type": "code",
      "source": [
        "\n",
        "# This computes the element-wise product. z1, z2, z3 will have the same value\n",
        "z1 = tensor * tensor\n",
        "z2 = tensor.mul(tensor)\n",
        "\n",
        "z3 = torch.rand_like(tensor)\n",
        "torch.mul(tensor, tensor, out=z3)"
      ],
      "metadata": {
        "colab": {
          "base_uri": "https://localhost:8080/"
        },
        "id": "b9b77R8KVN8r",
        "outputId": "2fa491d3-1cfa-4fe7-e34b-8458afcccbc3"
      },
      "execution_count": null,
      "outputs": [
        {
          "output_type": "execute_result",
          "data": {
            "text/plain": [
              "tensor([[1., 0., 1., 1.],\n",
              "        [1., 0., 1., 1.],\n",
              "        [1., 0., 1., 1.],\n",
              "        [1., 0., 1., 1.]])"
            ]
          },
          "metadata": {},
          "execution_count": 16
        }
      ]
    },
    {
      "cell_type": "markdown",
      "metadata": {
        "id": "e8b1ZpS-OfGz"
      },
      "source": [
        "**Single-element tensors** If you have a one-element tensor, for example by aggregating all\n",
        "values of a tensor into one value, you can convert it to a Python\n",
        "numerical value using ``item()``:\n",
        "\n"
      ]
    },
    {
      "cell_type": "code",
      "execution_count": null,
      "metadata": {
        "colab": {
          "base_uri": "https://localhost:8080/"
        },
        "id": "vZ-KfF-cOfGz",
        "outputId": "8cfc5586-09c2-4588-f22b-9325738ae727"
      },
      "outputs": [
        {
          "output_type": "stream",
          "name": "stdout",
          "text": [
            "12.0 <class 'float'>\n"
          ]
        }
      ],
      "source": [
        "agg = tensor.sum()\n",
        "agg_item = agg.item()\n",
        "print(agg_item, type(agg_item))"
      ]
    },
    {
      "cell_type": "markdown",
      "metadata": {
        "id": "cTRmfnePOfGz"
      },
      "source": [
        "**In-place operations**\n",
        "Operations that store the result into the operand are called in-place. They are denoted by a ``_`` suffix.\n",
        "For example: ``x.copy_(y)``, ``x.t_()``, will change ``x``.\n",
        "\n"
      ]
    },
    {
      "cell_type": "code",
      "execution_count": null,
      "metadata": {
        "colab": {
          "base_uri": "https://localhost:8080/"
        },
        "id": "eQYBBszHOfGz",
        "outputId": "3a0c92ff-b38d-487f-8582-43ca756950bc"
      },
      "outputs": [
        {
          "output_type": "stream",
          "name": "stdout",
          "text": [
            "tensor([[1., 0., 1., 1.],\n",
            "        [1., 0., 1., 1.],\n",
            "        [1., 0., 1., 1.],\n",
            "        [1., 0., 1., 1.]]) \n",
            "\n",
            "tensor([[6., 5., 6., 6.],\n",
            "        [6., 5., 6., 6.],\n",
            "        [6., 5., 6., 6.],\n",
            "        [6., 5., 6., 6.]])\n"
          ]
        }
      ],
      "source": [
        "print(f\"{tensor} \\n\")\n",
        "tensor.add_(5)\n",
        "print(tensor)"
      ]
    },
    {
      "cell_type": "markdown",
      "metadata": {
        "id": "61GrdF4wOfG0"
      },
      "source": [
        "<div class=\"alert alert-info\"><h4>Note</h4><p>In-place operations save some memory, but can be problematic when computing derivatives because of an immediate loss\n",
        "     of history. Hence, their use is discouraged.</p></div>\n",
        "\n"
      ]
    },
    {
      "cell_type": "markdown",
      "metadata": {
        "id": "h1B6Z4zbOfG0"
      },
      "source": [
        "--------------\n",
        "\n",
        "\n"
      ]
    },
    {
      "cell_type": "markdown",
      "metadata": {
        "id": "U3pekdG-OfG0"
      },
      "source": [
        "### Bridge with NumPy\n",
        "\n",
        "Tensors on the CPU and NumPy arrays can share their underlying memory\n",
        "locations, and changing one will change\tthe other.\n",
        "\n"
      ]
    },
    {
      "cell_type": "markdown",
      "metadata": {
        "id": "mNesihCwOfG0"
      },
      "source": [
        "#### Tensor to NumPy array"
      ]
    },
    {
      "cell_type": "code",
      "execution_count": 4,
      "metadata": {
        "colab": {
          "base_uri": "https://localhost:8080/"
        },
        "id": "xAp72xrtOfG0",
        "outputId": "823497b0-5fad-4c44-dad4-caf9297a1941"
      },
      "outputs": [
        {
          "output_type": "stream",
          "name": "stdout",
          "text": [
            "t: tensor([1., 1., 1., 1., 1.])\n",
            "n: [1. 1. 1. 1. 1.]\n"
          ]
        }
      ],
      "source": [
        "t = torch.ones(5)\n",
        "print(f\"t: {t}\")\n",
        "n = t.numpy()\n",
        "print(f\"n: {n}\")"
      ]
    },
    {
      "cell_type": "markdown",
      "metadata": {
        "id": "C5EF1z7aOfG1"
      },
      "source": [
        "A change in the tensor reflects in the NumPy array.\n",
        "\n"
      ]
    },
    {
      "cell_type": "code",
      "execution_count": 5,
      "metadata": {
        "colab": {
          "base_uri": "https://localhost:8080/"
        },
        "id": "RmV3g6XpOfG1",
        "outputId": "19fe936a-e111-44b5-8260-793f2bfed06d"
      },
      "outputs": [
        {
          "output_type": "stream",
          "name": "stdout",
          "text": [
            "t: tensor([2., 2., 2., 2., 2.])\n",
            "n: [2. 2. 2. 2. 2.]\n"
          ]
        }
      ],
      "source": [
        "t.add_(1)\n",
        "print(f\"t: {t}\")\n",
        "print(f\"n: {n}\")"
      ]
    },
    {
      "cell_type": "markdown",
      "metadata": {
        "id": "oW-upIGZOfG1"
      },
      "source": [
        "#### NumPy array to Tensor"
      ]
    },
    {
      "cell_type": "code",
      "execution_count": 6,
      "metadata": {
        "id": "aGv1Fq4LOfG1"
      },
      "outputs": [],
      "source": [
        "n = np.ones(5)\n",
        "t = torch.from_numpy(n)"
      ]
    },
    {
      "cell_type": "markdown",
      "metadata": {
        "id": "svhvpEG5OfG1"
      },
      "source": [
        "Changes in the NumPy array reflects in the tensor.\n",
        "\n"
      ]
    },
    {
      "cell_type": "code",
      "execution_count": 7,
      "metadata": {
        "id": "El1ZT9LYOfG1",
        "colab": {
          "base_uri": "https://localhost:8080/"
        },
        "outputId": "a4a4f469-050d-44be-e422-b5429da5d04b"
      },
      "outputs": [
        {
          "output_type": "stream",
          "name": "stdout",
          "text": [
            "t: tensor([2., 2., 2., 2., 2.], dtype=torch.float64)\n",
            "n: [2. 2. 2. 2. 2.]\n"
          ]
        }
      ],
      "source": [
        "np.add(n, 1, out=n)\n",
        "print(f\"t: {t}\")\n",
        "print(f\"n: {n}\")"
      ]
    },
    {
      "cell_type": "markdown",
      "source": [
        "### Tensors: scenic views of storage\n",
        "\n",
        "Values of tensors are allocated in contiguous chuncks of memory managed by torch.Storage\n",
        "\n",
        "![landscape](https://drive.google.com/uc?id=1ACNU_409P8QRf7u-jH3AyEgzaYhNPQvJ)\n",
        "\n",
        "(E. Stevens et al., \"Deep learning with Pytorch\")\n"
      ],
      "metadata": {
        "id": "km81pvjXIucj"
      }
    },
    {
      "cell_type": "markdown",
      "source": [
        "## Autograd"
      ],
      "metadata": {
        "id": "Yu1KhnHhV4Nt"
      }
    },
    {
      "cell_type": "markdown",
      "source": [
        "Pytorch is well-known for its automatic differentiation feature. We can call the `backward()` method to ask `PyTorch` to calculate the gradients, which are then stored in the `grad` attribute."
      ],
      "metadata": {
        "id": "pqO5uY-rXeTg"
      }
    },
    {
      "cell_type": "code",
      "source": [
        "import torch\n",
        "import numpy as np\n",
        "\n",
        "# Import pprint, module we use for making our print statements prettier\n",
        "import pprint\n",
        "pp = pprint.PrettyPrinter()"
      ],
      "metadata": {
        "id": "8HYupF5RYMtb"
      },
      "execution_count": 23,
      "outputs": []
    },
    {
      "cell_type": "code",
      "source": [
        "# requires_grad parameter in the constructor, tells PyTorch to store gradients\n",
        "x = torch.tensor([2.], requires_grad=True)\n",
        "\n",
        "# Print the gradient if it is calculated\n",
        "# Currently None since x is a scalar\n",
        "pp.pprint(x.grad)"
      ],
      "metadata": {
        "colab": {
          "base_uri": "https://localhost:8080/"
        },
        "id": "KWwKaiKqXoJR",
        "outputId": "f41e35f8-4541-4ac3-c197-5e10cc5f4600"
      },
      "execution_count": 24,
      "outputs": [
        {
          "output_type": "stream",
          "name": "stdout",
          "text": [
            "None\n"
          ]
        }
      ]
    },
    {
      "cell_type": "code",
      "source": [
        "# Calculating the gradient of y with respect to x\n",
        "y = x * x * 3 # 3x^2\n",
        "y.backward()\n",
        "pp.pprint(x.grad) # d(y)/d(x)"
      ],
      "metadata": {
        "colab": {
          "base_uri": "https://localhost:8080/"
        },
        "id": "gkCNiP9vYTcG",
        "outputId": "aa7a43b2-3a12-4024-fede-abcd2ee816a5"
      },
      "execution_count": 25,
      "outputs": [
        {
          "output_type": "stream",
          "name": "stdout",
          "text": [
            "tensor([12.])\n"
          ]
        }
      ]
    },
    {
      "cell_type": "markdown",
      "source": [
        "**Note**: Calling backward will lead derivatives to accumulate at leaf nodes.\n",
        "We need to zero the gradient explicitly after using it for parameter updates."
      ],
      "metadata": {
        "id": "WbZHBK1Iafa3"
      }
    },
    {
      "cell_type": "code",
      "source": [
        "z = x * x * 3 # 3x^2\n",
        "z.backward()\n",
        "pp.pprint(x.grad)"
      ],
      "metadata": {
        "colab": {
          "base_uri": "https://localhost:8080/"
        },
        "id": "1zTjvY-bYxTd",
        "outputId": "a20f2f2e-98b4-409d-84b0-41db210133b7"
      },
      "execution_count": 11,
      "outputs": [
        {
          "output_type": "stream",
          "name": "stdout",
          "text": [
            "tensor([24.])\n"
          ]
        }
      ]
    },
    {
      "cell_type": "markdown",
      "source": [
        "We can see that the x.grad is updated to be the sum of the gradients calculated so far. When we run backprop in a neural network, we sum up all the gradients for a particular neuron before making an update. This is exactly what is happening here! This is also the reason why we need to run zero_grad() in every training iteration (more on this later). Otherwise our gradients would keep building up from one training iteration to the other, which would cause our updates to be wrong.\n",
        "\n",
        "```\n",
        "if params.grad is not None:\n",
        "    params.grad.zero_()\n",
        "```\n",
        "\n"
      ],
      "metadata": {
        "id": "BrYwA-vrY_3a"
      }
    },
    {
      "cell_type": "markdown",
      "source": [
        "Veamos otro ejemplo"
      ],
      "metadata": {
        "id": "4U9OPyA9ZH0E"
      }
    },
    {
      "cell_type": "code",
      "source": [
        "t_c = torch.tensor([0.5, 14.0, 15.0, 28.0, 11.0, 8.0,\n",
        "                    3.0, -4.0, 6.0, 13.0, 21.0])\n",
        "t_u = torch.tensor([35.7, 55.9, 58.2, 81.9, 56.3, 48.9,\n",
        "                    33.9, 21.8, 48.4, 60.4, 68.4])\n",
        "t_un = 0.1 * t_u"
      ],
      "metadata": {
        "id": "IfvHbcRIZHL6"
      },
      "execution_count": 32,
      "outputs": []
    },
    {
      "cell_type": "code",
      "source": [
        "def model(t_u, w, b):\n",
        "    return w * t_u + b\n",
        "\n",
        "def loss_fn(t_p, t_c):\n",
        "    squared_diffs = (t_p - t_c)**2\n",
        "    return squared_diffs.mean()"
      ],
      "metadata": {
        "id": "XFurWCJZZOXl"
      },
      "execution_count": 33,
      "outputs": []
    },
    {
      "cell_type": "code",
      "source": [
        "params = torch.tensor([1.0, 0.0], requires_grad=True)"
      ],
      "metadata": {
        "id": "1urLb-AQZOGN"
      },
      "execution_count": 34,
      "outputs": []
    },
    {
      "cell_type": "code",
      "source": [
        "params.grad is None"
      ],
      "metadata": {
        "colab": {
          "base_uri": "https://localhost:8080/"
        },
        "id": "cRDk88aqZcIV",
        "outputId": "5443e635-d014-4784-a3cf-440b2017010e"
      },
      "execution_count": 35,
      "outputs": [
        {
          "output_type": "execute_result",
          "data": {
            "text/plain": [
              "True"
            ]
          },
          "metadata": {},
          "execution_count": 35
        }
      ]
    },
    {
      "cell_type": "code",
      "source": [
        "loss = loss_fn(model(t_u, *params), t_c)\n",
        "loss.backward()\n",
        "\n",
        "params.grad"
      ],
      "metadata": {
        "colab": {
          "base_uri": "https://localhost:8080/"
        },
        "id": "sziWM0D9Zfqg",
        "outputId": "db950e41-713d-40e1-ad3c-c439434849e7"
      },
      "execution_count": 36,
      "outputs": [
        {
          "output_type": "execute_result",
          "data": {
            "text/plain": [
              "tensor([4517.2969,   82.6000])"
            ]
          },
          "metadata": {},
          "execution_count": 36
        }
      ]
    },
    {
      "cell_type": "markdown",
      "source": [
        "## Computation graph.\n",
        "- **<font color='blue'>Blue boxes</font>** correspond to the tensors we use as parameters, the ones we’re asking PyTorch to compute gradients for\n",
        "- **<font color='gray'>Gray box</font>** a Python operation that involves a gradient-computing tensor or its dependencies\n",
        "- **<font color='green'>Green box</font>** the same as the gray box, except it is the starting point for the computation of gradients (assuming the `backward()`method is called from the variable used to visualize the graph)— they are computed from the bottom-up in a graph"
      ],
      "metadata": {
        "id": "ppcG5tKWorA1"
      }
    },
    {
      "cell_type": "code",
      "source": [
        "!pip install torchviz"
      ],
      "metadata": {
        "collapsed": true,
        "colab": {
          "base_uri": "https://localhost:8080/"
        },
        "id": "tMPN0FCEmWbF",
        "outputId": "febd0704-a7f5-46fb-c5bb-9ca1cc3972b6"
      },
      "execution_count": 38,
      "outputs": [
        {
          "output_type": "stream",
          "name": "stdout",
          "text": [
            "Collecting torchviz\n",
            "  Downloading torchviz-0.0.3-py3-none-any.whl.metadata (2.1 kB)\n",
            "Requirement already satisfied: torch in /usr/local/lib/python3.12/dist-packages (from torchviz) (2.8.0+cu126)\n",
            "Requirement already satisfied: graphviz in /usr/local/lib/python3.12/dist-packages (from torchviz) (0.21)\n",
            "Requirement already satisfied: filelock in /usr/local/lib/python3.12/dist-packages (from torch->torchviz) (3.19.1)\n",
            "Requirement already satisfied: typing-extensions>=4.10.0 in /usr/local/lib/python3.12/dist-packages (from torch->torchviz) (4.15.0)\n",
            "Requirement already satisfied: setuptools in /usr/local/lib/python3.12/dist-packages (from torch->torchviz) (75.2.0)\n",
            "Requirement already satisfied: sympy>=1.13.3 in /usr/local/lib/python3.12/dist-packages (from torch->torchviz) (1.13.3)\n",
            "Requirement already satisfied: networkx in /usr/local/lib/python3.12/dist-packages (from torch->torchviz) (3.5)\n",
            "Requirement already satisfied: jinja2 in /usr/local/lib/python3.12/dist-packages (from torch->torchviz) (3.1.6)\n",
            "Requirement already satisfied: fsspec in /usr/local/lib/python3.12/dist-packages (from torch->torchviz) (2025.3.0)\n",
            "Requirement already satisfied: nvidia-cuda-nvrtc-cu12==12.6.77 in /usr/local/lib/python3.12/dist-packages (from torch->torchviz) (12.6.77)\n",
            "Requirement already satisfied: nvidia-cuda-runtime-cu12==12.6.77 in /usr/local/lib/python3.12/dist-packages (from torch->torchviz) (12.6.77)\n",
            "Requirement already satisfied: nvidia-cuda-cupti-cu12==12.6.80 in /usr/local/lib/python3.12/dist-packages (from torch->torchviz) (12.6.80)\n",
            "Requirement already satisfied: nvidia-cudnn-cu12==9.10.2.21 in /usr/local/lib/python3.12/dist-packages (from torch->torchviz) (9.10.2.21)\n",
            "Requirement already satisfied: nvidia-cublas-cu12==12.6.4.1 in /usr/local/lib/python3.12/dist-packages (from torch->torchviz) (12.6.4.1)\n",
            "Requirement already satisfied: nvidia-cufft-cu12==11.3.0.4 in /usr/local/lib/python3.12/dist-packages (from torch->torchviz) (11.3.0.4)\n",
            "Requirement already satisfied: nvidia-curand-cu12==10.3.7.77 in /usr/local/lib/python3.12/dist-packages (from torch->torchviz) (10.3.7.77)\n",
            "Requirement already satisfied: nvidia-cusolver-cu12==11.7.1.2 in /usr/local/lib/python3.12/dist-packages (from torch->torchviz) (11.7.1.2)\n",
            "Requirement already satisfied: nvidia-cusparse-cu12==12.5.4.2 in /usr/local/lib/python3.12/dist-packages (from torch->torchviz) (12.5.4.2)\n",
            "Requirement already satisfied: nvidia-cusparselt-cu12==0.7.1 in /usr/local/lib/python3.12/dist-packages (from torch->torchviz) (0.7.1)\n",
            "Requirement already satisfied: nvidia-nccl-cu12==2.27.3 in /usr/local/lib/python3.12/dist-packages (from torch->torchviz) (2.27.3)\n",
            "Requirement already satisfied: nvidia-nvtx-cu12==12.6.77 in /usr/local/lib/python3.12/dist-packages (from torch->torchviz) (12.6.77)\n",
            "Requirement already satisfied: nvidia-nvjitlink-cu12==12.6.85 in /usr/local/lib/python3.12/dist-packages (from torch->torchviz) (12.6.85)\n",
            "Requirement already satisfied: nvidia-cufile-cu12==1.11.1.6 in /usr/local/lib/python3.12/dist-packages (from torch->torchviz) (1.11.1.6)\n",
            "Requirement already satisfied: triton==3.4.0 in /usr/local/lib/python3.12/dist-packages (from torch->torchviz) (3.4.0)\n",
            "Requirement already satisfied: mpmath<1.4,>=1.1.0 in /usr/local/lib/python3.12/dist-packages (from sympy>=1.13.3->torch->torchviz) (1.3.0)\n",
            "Requirement already satisfied: MarkupSafe>=2.0 in /usr/local/lib/python3.12/dist-packages (from jinja2->torch->torchviz) (3.0.2)\n",
            "Downloading torchviz-0.0.3-py3-none-any.whl (5.7 kB)\n",
            "Installing collected packages: torchviz\n",
            "Successfully installed torchviz-0.0.3\n"
          ]
        }
      ]
    },
    {
      "cell_type": "code",
      "source": [
        "from torchviz import make_dot\n",
        "# We can try plotting the graph for any python variable: yhat, error, loss...\n",
        "make_dot(loss)"
      ],
      "metadata": {
        "colab": {
          "base_uri": "https://localhost:8080/",
          "height": 676
        },
        "id": "RBMBioKgmbyC",
        "outputId": "2009d5dc-87da-4d34-d5a7-c0926b29d154"
      },
      "execution_count": 39,
      "outputs": [
        {
          "output_type": "execute_result",
          "data": {
            "image/svg+xml": "<?xml version=\"1.0\" encoding=\"UTF-8\" standalone=\"no\"?>\n<!DOCTYPE svg PUBLIC \"-//W3C//DTD SVG 1.1//EN\"\n \"http://www.w3.org/Graphics/SVG/1.1/DTD/svg11.dtd\">\n<!-- Generated by graphviz version 2.43.0 (0)\n -->\n<!-- Title: %3 Pages: 1 -->\n<svg width=\"143pt\" height=\"491pt\"\n viewBox=\"0.00 0.00 143.00 491.00\" xmlns=\"http://www.w3.org/2000/svg\" xmlns:xlink=\"http://www.w3.org/1999/xlink\">\n<g id=\"graph0\" class=\"graph\" transform=\"scale(1 1) rotate(0) translate(4 487)\">\n<title>%3</title>\n<polygon fill=\"white\" stroke=\"transparent\" points=\"-4,4 -4,-487 139,-487 139,4 -4,4\"/>\n<!-- 136887996261520 -->\n<g id=\"node1\" class=\"node\">\n<title>136887996261520</title>\n<polygon fill=\"#caff70\" stroke=\"black\" points=\"80.5,-31 26.5,-31 26.5,0 80.5,0 80.5,-31\"/>\n<text text-anchor=\"middle\" x=\"53.5\" y=\"-7\" font-family=\"monospace\" font-size=\"10.00\"> ()</text>\n</g>\n<!-- 136888674049504 -->\n<g id=\"node2\" class=\"node\">\n<title>136888674049504</title>\n<polygon fill=\"lightgrey\" stroke=\"black\" points=\"101,-86 6,-86 6,-67 101,-67 101,-86\"/>\n<text text-anchor=\"middle\" x=\"53.5\" y=\"-74\" font-family=\"monospace\" font-size=\"10.00\">MeanBackward0</text>\n</g>\n<!-- 136888674049504&#45;&gt;136887996261520 -->\n<g id=\"edge9\" class=\"edge\">\n<title>136888674049504&#45;&gt;136887996261520</title>\n<path fill=\"none\" stroke=\"black\" d=\"M53.5,-66.79C53.5,-60.07 53.5,-50.4 53.5,-41.34\"/>\n<polygon fill=\"black\" stroke=\"black\" points=\"57,-41.19 53.5,-31.19 50,-41.19 57,-41.19\"/>\n</g>\n<!-- 136892941148864 -->\n<g id=\"node3\" class=\"node\">\n<title>136892941148864</title>\n<polygon fill=\"lightgrey\" stroke=\"black\" points=\"98,-141 9,-141 9,-122 98,-122 98,-141\"/>\n<text text-anchor=\"middle\" x=\"53.5\" y=\"-129\" font-family=\"monospace\" font-size=\"10.00\">PowBackward0</text>\n</g>\n<!-- 136892941148864&#45;&gt;136888674049504 -->\n<g id=\"edge1\" class=\"edge\">\n<title>136892941148864&#45;&gt;136888674049504</title>\n<path fill=\"none\" stroke=\"black\" d=\"M53.5,-121.75C53.5,-114.8 53.5,-104.85 53.5,-96.13\"/>\n<polygon fill=\"black\" stroke=\"black\" points=\"57,-96.09 53.5,-86.09 50,-96.09 57,-96.09\"/>\n</g>\n<!-- 136888673929872 -->\n<g id=\"node4\" class=\"node\">\n<title>136888673929872</title>\n<polygon fill=\"lightgrey\" stroke=\"black\" points=\"98,-196 9,-196 9,-177 98,-177 98,-196\"/>\n<text text-anchor=\"middle\" x=\"53.5\" y=\"-184\" font-family=\"monospace\" font-size=\"10.00\">SubBackward0</text>\n</g>\n<!-- 136888673929872&#45;&gt;136892941148864 -->\n<g id=\"edge2\" class=\"edge\">\n<title>136888673929872&#45;&gt;136892941148864</title>\n<path fill=\"none\" stroke=\"black\" d=\"M53.5,-176.75C53.5,-169.8 53.5,-159.85 53.5,-151.13\"/>\n<polygon fill=\"black\" stroke=\"black\" points=\"57,-151.09 53.5,-141.09 50,-151.09 57,-151.09\"/>\n</g>\n<!-- 136888672080880 -->\n<g id=\"node5\" class=\"node\">\n<title>136888672080880</title>\n<polygon fill=\"lightgrey\" stroke=\"black\" points=\"98,-251 9,-251 9,-232 98,-232 98,-251\"/>\n<text text-anchor=\"middle\" x=\"53.5\" y=\"-239\" font-family=\"monospace\" font-size=\"10.00\">AddBackward0</text>\n</g>\n<!-- 136888672080880&#45;&gt;136888673929872 -->\n<g id=\"edge3\" class=\"edge\">\n<title>136888672080880&#45;&gt;136888673929872</title>\n<path fill=\"none\" stroke=\"black\" d=\"M53.5,-231.75C53.5,-224.8 53.5,-214.85 53.5,-206.13\"/>\n<polygon fill=\"black\" stroke=\"black\" points=\"57,-206.09 53.5,-196.09 50,-206.09 57,-206.09\"/>\n</g>\n<!-- 136888672080304 -->\n<g id=\"node6\" class=\"node\">\n<title>136888672080304</title>\n<polygon fill=\"lightgrey\" stroke=\"black\" points=\"135,-306 46,-306 46,-287 135,-287 135,-306\"/>\n<text text-anchor=\"middle\" x=\"90.5\" y=\"-294\" font-family=\"monospace\" font-size=\"10.00\">MulBackward0</text>\n</g>\n<!-- 136888672080304&#45;&gt;136888672080880 -->\n<g id=\"edge4\" class=\"edge\">\n<title>136888672080304&#45;&gt;136888672080880</title>\n<path fill=\"none\" stroke=\"black\" d=\"M84.39,-286.75C79.22,-279.34 71.65,-268.5 65.31,-259.41\"/>\n<polygon fill=\"black\" stroke=\"black\" points=\"68.09,-257.29 59.5,-251.09 62.35,-261.29 68.09,-257.29\"/>\n</g>\n<!-- 136888672080208 -->\n<g id=\"node7\" class=\"node\">\n<title>136888672080208</title>\n<polygon fill=\"lightgrey\" stroke=\"black\" points=\"107,-361 0,-361 0,-342 107,-342 107,-361\"/>\n<text text-anchor=\"middle\" x=\"53.5\" y=\"-349\" font-family=\"monospace\" font-size=\"10.00\">UnbindBackward0</text>\n</g>\n<!-- 136888672080208&#45;&gt;136888672080880 -->\n<g id=\"edge8\" class=\"edge\">\n<title>136888672080208&#45;&gt;136888672080880</title>\n<path fill=\"none\" stroke=\"black\" d=\"M48.98,-341.96C43.12,-329.85 34.02,-306.94 37.5,-287 39.07,-278 42.3,-268.42 45.44,-260.46\"/>\n<polygon fill=\"black\" stroke=\"black\" points=\"48.72,-261.69 49.39,-251.12 42.27,-258.97 48.72,-261.69\"/>\n</g>\n<!-- 136888672080208&#45;&gt;136888672080304 -->\n<g id=\"edge5\" class=\"edge\">\n<title>136888672080208&#45;&gt;136888672080304</title>\n<path fill=\"none\" stroke=\"black\" d=\"M59.61,-341.75C64.78,-334.34 72.35,-323.5 78.69,-314.41\"/>\n<polygon fill=\"black\" stroke=\"black\" points=\"81.65,-316.29 84.5,-306.09 75.91,-312.29 81.65,-316.29\"/>\n</g>\n<!-- 136888672080784 -->\n<g id=\"node8\" class=\"node\">\n<title>136888672080784</title>\n<polygon fill=\"lightgrey\" stroke=\"black\" points=\"104,-416 3,-416 3,-397 104,-397 104,-416\"/>\n<text text-anchor=\"middle\" x=\"53.5\" y=\"-404\" font-family=\"monospace\" font-size=\"10.00\">AccumulateGrad</text>\n</g>\n<!-- 136888672080784&#45;&gt;136888672080208 -->\n<g id=\"edge6\" class=\"edge\">\n<title>136888672080784&#45;&gt;136888672080208</title>\n<path fill=\"none\" stroke=\"black\" d=\"M53.5,-396.75C53.5,-389.8 53.5,-379.85 53.5,-371.13\"/>\n<polygon fill=\"black\" stroke=\"black\" points=\"57,-371.09 53.5,-361.09 50,-371.09 57,-371.09\"/>\n</g>\n<!-- 136887996262320 -->\n<g id=\"node9\" class=\"node\">\n<title>136887996262320</title>\n<polygon fill=\"lightblue\" stroke=\"black\" points=\"80.5,-483 26.5,-483 26.5,-452 80.5,-452 80.5,-483\"/>\n<text text-anchor=\"middle\" x=\"53.5\" y=\"-459\" font-family=\"monospace\" font-size=\"10.00\"> (2)</text>\n</g>\n<!-- 136887996262320&#45;&gt;136888672080784 -->\n<g id=\"edge7\" class=\"edge\">\n<title>136887996262320&#45;&gt;136888672080784</title>\n<path fill=\"none\" stroke=\"black\" d=\"M53.5,-451.92C53.5,-444.22 53.5,-434.69 53.5,-426.43\"/>\n<polygon fill=\"black\" stroke=\"black\" points=\"57,-426.25 53.5,-416.25 50,-426.25 57,-426.25\"/>\n</g>\n</g>\n</svg>\n",
            "text/plain": [
              "<graphviz.graphs.Digraph at 0x7c7fe0c883e0>"
            ]
          },
          "metadata": {},
          "execution_count": 39
        }
      ]
    },
    {
      "cell_type": "markdown",
      "source": [
        "Forward and backward steps as is computed with ``autograd``\n",
        "\n",
        "![landscape](https://drive.google.com/uc?id=1PesFXbPY1BUuqXcIUPUu5MRSF027txvT)\n",
        "\n",
        "(E. Stevens et al., \"Deep learning with Pytorch\")"
      ],
      "metadata": {
        "id": "Gr_Hyrj0aFo0"
      }
    },
    {
      "cell_type": "code",
      "source": [
        "def training_loop(n_epochs, learning_rate, params, t_u, t_c):\n",
        "    for epoch in range(1, n_epochs + 1):\n",
        "        if params.grad is not None:  # <1>\n",
        "            params.grad.zero_()\n",
        "\n",
        "        t_p = model(t_u, *params) # When used in a function call (not definition), a single asterisk\n",
        "                                  # before an iterable (like a list or tuple) unpacks its elements as\n",
        "                                  # individual positional arguments.\n",
        "        loss = loss_fn(t_p, t_c)\n",
        "        loss.backward()\n",
        "\n",
        "        with torch.no_grad():  # <2>\n",
        "            params -= learning_rate * params.grad\n",
        "\n",
        "        if epoch % 500 == 0:\n",
        "            print('Epoch %d, Loss %f' % (epoch, float(loss)))\n",
        "\n",
        "    return params"
      ],
      "metadata": {
        "id": "UR8gtbOeZb70"
      },
      "execution_count": null,
      "outputs": []
    },
    {
      "cell_type": "code",
      "source": [
        "training_loop(\n",
        "    n_epochs = 5000,\n",
        "    learning_rate = 1e-2,\n",
        "    params = torch.tensor([1.0, 0.0], requires_grad=True), # <1>\n",
        "    t_u = t_un, # <2>\n",
        "    t_c = t_c)"
      ],
      "metadata": {
        "colab": {
          "base_uri": "https://localhost:8080/"
        },
        "id": "bnsE2XdKbVby",
        "outputId": "71ba2642-80fc-46ad-99f4-a2adb54792b0"
      },
      "execution_count": null,
      "outputs": [
        {
          "output_type": "stream",
          "name": "stderr",
          "text": [
            "/tmp/ipython-input-2334260141.py:14: UserWarning: Converting a tensor with requires_grad=True to a scalar may lead to unexpected behavior.\n",
            "Consider using tensor.detach() first. (Triggered internally at /pytorch/torch/csrc/autograd/generated/python_variable_methods.cpp:835.)\n",
            "  print('Epoch %d, Loss %f' % (epoch, float(loss)))\n"
          ]
        },
        {
          "output_type": "stream",
          "name": "stdout",
          "text": [
            "Epoch 500, Loss 7.860115\n",
            "Epoch 1000, Loss 3.828538\n",
            "Epoch 1500, Loss 3.092191\n",
            "Epoch 2000, Loss 2.957698\n",
            "Epoch 2500, Loss 2.933134\n",
            "Epoch 3000, Loss 2.928648\n",
            "Epoch 3500, Loss 2.927830\n",
            "Epoch 4000, Loss 2.927679\n",
            "Epoch 4500, Loss 2.927652\n",
            "Epoch 5000, Loss 2.927647\n"
          ]
        },
        {
          "output_type": "execute_result",
          "data": {
            "text/plain": [
              "tensor([  5.3671, -17.3012], requires_grad=True)"
            ]
          },
          "metadata": {},
          "execution_count": 12
        }
      ]
    },
    {
      "cell_type": "markdown",
      "source": [
        "# Ejemplo: red neuronal simple para clasificación\n",
        "\n",
        "Adaptado de [Pytorch tutorials](https://docs.pytorch.org/tutorials/) y [Pytorch Deep Learning](https://github.com/mrdbourke/pytorch-deep-learning)."
      ],
      "metadata": {
        "id": "PuDCaJYKxVLJ"
      }
    },
    {
      "cell_type": "markdown",
      "source": [
        "## Data generation"
      ],
      "metadata": {
        "id": "9Bp-UjcOzd4a"
      }
    },
    {
      "cell_type": "code",
      "source": [
        "import seaborn as sns\n",
        "import pandas as pd\n",
        "import numpy as np\n",
        "import matplotlib.pyplot as plt\n",
        "from sklearn.datasets import make_blobs\n",
        "from sklearn.model_selection import train_test_split\n",
        "\n",
        "# dataset parameters\n",
        "NUM_CLASSES = 4\n",
        "NUM_FEATURES = 2\n",
        "RANDOM_SEED = 42\n",
        "\n",
        "# Blobs data\n",
        "X_data, y_data = make_blobs(n_samples=1000,\n",
        "    n_features=NUM_FEATURES, # X features\n",
        "    centers=NUM_CLASSES, # y labels\n",
        "    cluster_std=2, # give the clusters a little shake up (try changing this to 1.0, the default)\n",
        "    random_state=RANDOM_SEED\n",
        ")\n",
        "\n",
        "# Create a DataFrame for plotting\n",
        "df_blob = pd.DataFrame({\n",
        "    'x1': X_data[:, 0],\n",
        "    'x2': X_data[:, 1],\n",
        "    'label': y_data\n",
        "})\n",
        "\n",
        "plt.figure(figsize=(10, 7))\n",
        "sns.scatterplot(data=df_blob, x='x1', y='x2', hue='label', palette='RdYlBu', s=40)\n",
        "plt.title('Dataset')\n",
        "plt.show()"
      ],
      "metadata": {
        "colab": {
          "base_uri": "https://localhost:8080/",
          "height": 639
        },
        "id": "67QO7NQExbKG",
        "outputId": "15344e05-d9cb-424c-e435-8be4ac83072c"
      },
      "execution_count": 40,
      "outputs": [
        {
          "output_type": "display_data",
          "data": {
            "text/plain": [
              "<Figure size 1000x700 with 1 Axes>"
            ],
            "image/png": "[encoded data removed]"
          },
          "metadata": {}
        }
      ]
    },
    {
      "cell_type": "markdown",
      "source": [
        "## The model"
      ],
      "metadata": {
        "id": "paZrD8ZDz64n"
      }
    },
    {
      "cell_type": "code",
      "source": [
        "import torch\n",
        "import platform\n",
        "import torch.optim as optim\n",
        "import torch.nn as nn\n",
        "from torch.utils.data import Dataset, TensorDataset, DataLoader"
      ],
      "metadata": {
        "id": "LRr_IRZH01Rk"
      },
      "execution_count": 3,
      "outputs": []
    },
    {
      "cell_type": "markdown",
      "source": [
        "CPU or GPU"
      ],
      "metadata": {
        "id": "3DcUUh0J059p"
      }
    },
    {
      "cell_type": "code",
      "source": [
        "if platform.system() == 'Darwin': #si es macOS\n",
        "    av1 = torch.backends.mps.is_available()\n",
        "    # this ensures that the current PyTorch installation was built with MPS activated.\n",
        "    av2 = torch.backends.mps.is_built()\n",
        "    if(av1==av2==True):\n",
        "        print('MPS available?',av1,'MPS built?',av2)\n",
        "        device = torch.device('mps')\n",
        "    else:\n",
        "        device = torch.device('cpu')\n",
        "else:\n",
        "    #Check if GPU is available\n",
        "    if torch.cuda.is_available():\n",
        "        device = torch.device('cuda')\n",
        "    else:\n",
        "        device = torch.device('cpu')\n",
        "print(\"Device:\",device)"
      ],
      "metadata": {
        "colab": {
          "base_uri": "https://localhost:8080/"
        },
        "id": "WDpBPafo01M7",
        "outputId": "c28c502f-b890-47ff-fff7-480870a57491"
      },
      "execution_count": 41,
      "outputs": [
        {
          "output_type": "stream",
          "name": "stdout",
          "text": [
            "Device: cuda\n"
          ]
        }
      ]
    },
    {
      "cell_type": "markdown",
      "source": [
        "### Training and validation datasets and tensors"
      ],
      "metadata": {
        "id": "cHTckoyw1B3k"
      }
    },
    {
      "cell_type": "code",
      "source": [
        "X_train, X_val, y_train, y_val = train_test_split(X_data, y_data, test_size=0.2, random_state=RANDOM_SEED)"
      ],
      "metadata": {
        "id": "AuJKxmgH01JL"
      },
      "execution_count": 5,
      "outputs": []
    },
    {
      "cell_type": "code",
      "source": [
        "x_train_tensor = torch.tensor(X_train, dtype=torch.float32)\n",
        "y_train_tensor = torch.tensor(y_train)\n",
        "train_dataset = TensorDataset(x_train_tensor, y_train_tensor)\n",
        "x_val_tensor = torch.tensor(X_val, dtype=torch.float32)\n",
        "y_val_tensor = torch.tensor(y_val)\n",
        "val_dataset = TensorDataset(x_val_tensor, y_val_tensor)"
      ],
      "metadata": {
        "id": "ua4MZsrx01BL"
      },
      "execution_count": 6,
      "outputs": []
    },
    {
      "cell_type": "markdown",
      "source": [
        "### Data loaders.\n",
        "Since we will be using batch optimization (with SGD), we need mini-batches (\"*slices*\" of our dataset)\n",
        "\n",
        "We can use use PyTorch’s **DataLoader** class. We tell it which dataset to use, the desired mini-batch size and if we’d like to shuffle it or not.\n",
        "\n",
        "Our loader will behave like an iterator, so we can loop over it and fetch a different mini-batch every time."
      ],
      "metadata": {
        "id": "XBMDBhhy1ZiZ"
      }
    },
    {
      "cell_type": "code",
      "source": [
        "# Builds a loader for each dataset to perform mini-batch gradient descent\n",
        "train_loader = DataLoader(dataset=train_dataset, batch_size=32)\n",
        "val_loader = DataLoader(dataset=val_dataset, batch_size=16)"
      ],
      "metadata": {
        "id": "a-coMRZ9xbYZ"
      },
      "execution_count": 7,
      "outputs": []
    },
    {
      "cell_type": "markdown",
      "source": [
        "### NN architecture\n",
        "\n",
        "In PyTorch, a model is represented by a regular Python class that inherits from the [Module](https://pytorch.org/docs/stable/nn.html#torch.nn.Module) class.\n",
        "\n",
        "![class](https://drive.google.com/uc?id=1KMVnBq7z6tGDvQ9LlqQYd6H6iVvCF2xf)\n",
        "\n",
        "\n",
        "The most fundamental methods it needs to implement are:\n",
        "- The constructor `__init__(self)`: it defines the parts that make up the model, in our case, two parameters, $a$ and $w$.\n",
        "- `forward(self, x)`: it performs the actual computation, that is, it outputs a prediction, given the input x.\n",
        "\n",
        "  __Note:__ You should NOT call the `forward(x)` method, though. You should call the whole model itself, as in `model(x)` to perform a forward pass and output predictions."
      ],
      "metadata": {
        "id": "r7lum38j3AsH"
      }
    },
    {
      "cell_type": "code",
      "source": [
        "class neural_network(nn.Module):\n",
        "    def __init__(self, input_features, output_features):\n",
        "        \"\"\"Initializes all required hyperparameters for a neural network classification model.\n",
        "\n",
        "        Args:\n",
        "            input_features (int): Number of input features to the model.\n",
        "            out_features (int): Number of output features of the model\n",
        "              (how many classes there are).\n",
        "        \"\"\"\n",
        "        super().__init__()\n",
        "        self.linear_layer_stack = nn.Sequential(\n",
        "            nn.Linear(in_features=input_features, out_features=8),\n",
        "            nn.ReLU(),\n",
        "            nn.Linear(in_features=8, out_features=10),\n",
        "            nn.ReLU(),\n",
        "            nn.Dropout(p=0.5),\n",
        "            nn.Linear(in_features=10, out_features=output_features),\n",
        "        )\n",
        "\n",
        "    def forward(self, x):\n",
        "        return self.linear_layer_stack(x)"
      ],
      "metadata": {
        "id": "YN2vSHld1WGp"
      },
      "execution_count": 47,
      "outputs": []
    },
    {
      "cell_type": "markdown",
      "source": [
        "### Loss function and optimizer\n",
        "\n",
        "| Loss function/Optimizer | Problem type | PyTorch Code |\n",
        "| ----- | ----- | ----- |\n",
        "| Stochastic Gradient Descent (SGD) optimizer | Classification, regression, many others. | [`torch.optim.SGD()`](https://pytorch.org/docs/stable/generated/torch.optim.SGD.html) |\n",
        "| Adam Optimizer | Classification, regression, many others. | [`torch.optim.Adam()`](https://pytorch.org/docs/stable/generated/torch.optim.Adam.html) |\n",
        "| Binary cross entropy loss | Binary classification | [`torch.nn.BCELossWithLogits`](https://pytorch.org/docs/stable/generated/torch.nn.BCEWithLogitsLoss.html) or [`torch.nn.BCELoss`](https://pytorch.org/docs/stable/generated/torch.nn.BCELoss.html) |\n",
        "| Cross entropy loss | Multi-class classification | [`torch.nn.CrossEntropyLoss`](https://pytorch.org/docs/stable/generated/torch.nn.CrossEntropyLoss.html) |\n",
        "| Mean absolute error (MAE) or L1 Loss | Regression | [`torch.nn.L1Loss`](https://pytorch.org/docs/stable/generated/torch.nn.L1Loss.html) |\n",
        "| Mean squared error (MSE) or L2 Loss | Regression | [`torch.nn.MSELoss`](https://pytorch.org/docs/stable/generated/torch.nn.MSELoss.html#torch.nn.MSELoss) |  \n",
        "\n",
        "*Table of various loss functions and optimizers, there are more but these are some common ones you'll see.*\n"
      ],
      "metadata": {
        "id": "mO-I3KUTGRAE"
      }
    },
    {
      "cell_type": "code",
      "source": [
        "#hyperparameters\n",
        "input_size = X_train.shape[1]  # number of features\n",
        "output_size = len(np.unique(y_train))  # number of classes\n",
        "learning_rate = 0.001\n",
        "num_epochs = 20\n",
        "loss_function = nn.CrossEntropyLoss()\n",
        "model = neural_network(input_size, output_size).to(device)\n",
        "optimizer = optim.Adam(params=model.parameters(), lr=learning_rate)\n",
        "\n",
        "print(model)"
      ],
      "metadata": {
        "colab": {
          "base_uri": "https://localhost:8080/"
        },
        "id": "3FKWuFLU1W4U",
        "outputId": "11c75458-608e-44dd-e2b1-0841a07cf930"
      },
      "execution_count": 48,
      "outputs": [
        {
          "output_type": "stream",
          "name": "stdout",
          "text": [
            "neural_network(\n",
            "  (linear_layer_stack): Sequential(\n",
            "    (0): Linear(in_features=2, out_features=8, bias=True)\n",
            "    (1): ReLU()\n",
            "    (2): Linear(in_features=8, out_features=10, bias=True)\n",
            "    (3): ReLU()\n",
            "    (4): Dropout(p=0.5, inplace=False)\n",
            "    (5): Linear(in_features=10, out_features=4, bias=True)\n",
            "  )\n",
            ")\n"
          ]
        }
      ]
    },
    {
      "cell_type": "markdown",
      "source": [
        "## Training"
      ],
      "metadata": {
        "id": "QIimPq2_CTqY"
      }
    },
    {
      "cell_type": "code",
      "source": [
        "# Calculate accuracy\n",
        "def accuracy_fn(y_true, y_pred):\n",
        "    correct = torch.eq(y_true, y_pred).sum().item() # torch.eq() calculates where two tensors are equal\n",
        "    acc = (correct / len(y_pred)) * 100\n",
        "    return acc\n",
        "\n",
        "#training loop\n",
        "for epoch in range(num_epochs):\n",
        "    # Uses loader to fetch one mini-batch for training\n",
        "    for x_batch, y_batch in train_loader:\n",
        "        # NOW, sends the mini-batch data to the device\n",
        "        # so it matches location of the MODEL\n",
        "        x_batch = x_batch.to(device)\n",
        "        y_batch = y_batch.to(device)\n",
        "\n",
        "        ### Training\n",
        "        model.train()\n",
        "        # Forward pass\n",
        "        y_logits = model(x_batch) # model outputs raw logits\n",
        "        y_pred = torch.softmax(y_logits, dim=1).argmax(dim=1) # go from logits -> prediction probabilities -> prediction labels\n",
        "        # print(y_logits)\n",
        "\n",
        "        # Calculate loss and accuracy\n",
        "        loss = loss_function(y_logits, y_batch)\n",
        "        acc = accuracy_fn(y_true=y_batch, y_pred=y_pred)\n",
        "\n",
        "        # Compute gradients\n",
        "        loss.backward()\n",
        "\n",
        "        # Updates parameters and zeroes gradients\n",
        "        optimizer.step()\n",
        "        optimizer.zero_grad()\n",
        "\n",
        "    ### Validation\n",
        "    model.eval()\n",
        "    with torch.inference_mode():\n",
        "        for x_val, y_val in val_loader:\n",
        "            # Again, sends data to same device as model\n",
        "            x_val = x_val.to(device)\n",
        "            y_val = y_val.to(device)\n",
        "            # Forward pass\n",
        "            val_logits = model(x_val)\n",
        "            val_pred = torch.softmax(val_logits, dim=1).argmax(dim=1)\n",
        "            # Calculate validation loss and accuracy\n",
        "            val_loss = loss_function(val_logits, y_val)\n",
        "            val_acc = accuracy_fn(y_true=y_val, y_pred=val_pred)\n",
        "\n",
        "    # verbatim\n",
        "    if epoch % 2 == 0:\n",
        "        print(f\"Epoch: {epoch} | Loss: {loss:.5f}, Acc: {acc:.2f}% | Validation Loss: {val_loss:.5f}, Validation Acc: {val_acc:.2f}%\")\n"
      ],
      "metadata": {
        "colab": {
          "base_uri": "https://localhost:8080/"
        },
        "id": "zrmFLHdq1W-j",
        "outputId": "c1c3dc83-7b57-4ecd-d779-3b0480e7029f"
      },
      "execution_count": 49,
      "outputs": [
        {
          "output_type": "stream",
          "name": "stdout",
          "text": [
            "Epoch: 0 | Loss: 1.17290, Acc: 46.88% | Validation Loss: 1.18638, Validation Acc: 37.50%\n",
            "Epoch: 2 | Loss: 0.82794, Acc: 59.38% | Validation Loss: 0.87645, Validation Acc: 87.50%\n",
            "Epoch: 4 | Loss: 0.83604, Acc: 59.38% | Validation Loss: 0.60323, Validation Acc: 100.00%\n",
            "Epoch: 6 | Loss: 0.74004, Acc: 65.62% | Validation Loss: 0.43282, Validation Acc: 100.00%\n",
            "Epoch: 8 | Loss: 0.55419, Acc: 81.25% | Validation Loss: 0.33071, Validation Acc: 100.00%\n",
            "Epoch: 10 | Loss: 0.43775, Acc: 78.12% | Validation Loss: 0.25471, Validation Acc: 100.00%\n",
            "Epoch: 12 | Loss: 0.32103, Acc: 87.50% | Validation Loss: 0.20820, Validation Acc: 100.00%\n",
            "Epoch: 14 | Loss: 0.49325, Acc: 81.25% | Validation Loss: 0.16563, Validation Acc: 100.00%\n",
            "Epoch: 16 | Loss: 0.42597, Acc: 87.50% | Validation Loss: 0.13657, Validation Acc: 100.00%\n",
            "Epoch: 18 | Loss: 0.38939, Acc: 93.75% | Validation Loss: 0.10785, Validation Acc: 100.00%\n"
          ]
        }
      ]
    },
    {
      "cell_type": "code",
      "source": [
        "print(model.state_dict())"
      ],
      "metadata": {
        "colab": {
          "base_uri": "https://localhost:8080/"
        },
        "id": "HlicGTVdN60R",
        "outputId": "51edb020-4b56-45fd-a966-e398abcedf21"
      },
      "execution_count": 21,
      "outputs": [
        {
          "output_type": "stream",
          "name": "stdout",
          "text": [
            "OrderedDict({'linear_layer_stack.0.weight': tensor([[ 0.0638, -0.7337],\n",
            "        [-0.2950, -0.4419],\n",
            "        [-0.3474,  0.5482],\n",
            "        [ 0.7160,  0.7221],\n",
            "        [-0.2926,  0.6605],\n",
            "        [ 0.7912, -0.4942],\n",
            "        [ 0.1023,  0.1587],\n",
            "        [-0.4019,  0.0136]]), 'linear_layer_stack.0.bias': tensor([-0.1798, -0.0298,  0.4309,  0.8608,  0.1282, -0.2643,  0.7135,  0.7538]), 'linear_layer_stack.2.weight': tensor([[ 0.3428,  0.5483, -0.1041, -0.3010, -0.2865, -0.1489, -0.2824,  0.1759],\n",
            "        [-0.0421, -0.0006,  0.0881,  0.5066, -0.2536,  0.5479, -0.0042, -0.1710],\n",
            "        [ 0.2484,  0.5702,  0.1338, -0.0971, -0.1645, -0.1253,  0.0404, -0.0373],\n",
            "        [ 0.2148, -0.1404,  0.1307,  0.2195,  0.4704, -0.1516,  0.3327, -0.1384],\n",
            "        [-0.0596, -0.0423, -0.1831, -0.3897,  0.2351, -0.0433, -0.0077,  0.4641],\n",
            "        [ 0.5059,  0.5953, -0.0705, -0.0683, -0.0575, -0.1535, -0.4808,  0.0931],\n",
            "        [-0.4289, -0.1486,  0.1239, -0.4840,  0.1388, -0.1431, -0.2388,  0.1731],\n",
            "        [ 0.5038,  0.0098, -0.0430,  0.0132,  0.1905, -0.2635, -0.0715,  0.2592],\n",
            "        [ 0.0777,  0.3687, -0.0432, -0.1040,  0.0350,  0.1890, -0.3504,  0.3572],\n",
            "        [-0.0223, -0.5071,  0.5174, -0.2367,  0.3944, -0.4514,  0.1959,  0.3342]]), 'linear_layer_stack.2.bias': tensor([ 0.1498,  0.1489, -0.2244, -0.1082, -0.2323,  0.2772, -0.0186, -0.0701,\n",
            "        -0.1053,  0.1274]), 'linear_layer_stack.5.weight': tensor([[ 1.8874e-02,  1.9704e-01, -2.9969e-01,  1.6206e-01, -3.8754e-01,\n",
            "         -2.5101e-01, -2.3506e-01,  1.6283e-01, -6.0996e-01,  4.1983e-03],\n",
            "        [-2.9378e-01,  4.4908e-01, -3.3976e-01,  5.2405e-02, -4.1459e-01,\n",
            "         -1.3656e-01, -1.0086e-01, -6.2507e-01, -6.5399e-02, -2.6182e-01],\n",
            "        [ 2.4994e-01, -1.1592e-01,  2.2695e-01, -3.9456e-01,  1.0599e-01,\n",
            "          2.9600e-01, -2.3723e-01,  1.9056e-01,  3.7028e-01, -3.1039e-01],\n",
            "        [-3.9681e-01, -4.5143e-01, -3.2806e-01,  7.0641e-02,  4.4140e-01,\n",
            "         -2.6750e-04,  4.6546e-01,  1.0694e-01,  2.1264e-01, -4.6619e-03]]), 'linear_layer_stack.5.bias': tensor([-0.1178,  0.1498, -0.1330, -0.3669])})\n"
          ]
        }
      ]
    },
    {
      "cell_type": "markdown",
      "source": [
        "## Predict test data"
      ],
      "metadata": {
        "id": "cPzPtJjNCr7E"
      }
    },
    {
      "cell_type": "code",
      "source": [
        "# Create test data\n",
        "X_test, y_test = make_blobs(n_samples=100,\n",
        "    n_features=NUM_FEATURES, # X features\n",
        "    centers=NUM_CLASSES, # y labels\n",
        "    cluster_std=2,\n",
        "    random_state=RANDOM_SEED\n",
        ")\n",
        "\n",
        "x_test_tensor = torch.tensor(X_test, dtype=torch.float32)\n",
        "y_test_tensor = torch.tensor(y_test)"
      ],
      "metadata": {
        "id": "CREVHQNo1XCm"
      },
      "execution_count": 50,
      "outputs": []
    },
    {
      "cell_type": "code",
      "source": [
        "model.eval()\n",
        "x_test = x_test_tensor.to(device)\n",
        "y_test = y_test_tensor.to(device)\n",
        "with torch.inference_mode():\n",
        "    y_logits = model(x_test)\n",
        "\n",
        "# Turn predicted logits in prediction probabilities\n",
        "y_pred_probs = torch.softmax(y_logits, dim=1)\n",
        "\n",
        "# Turn prediction probabilities into prediction labels\n",
        "y_preds = y_pred_probs.argmax(dim=1)\n",
        "y_preds\n",
        "# Calculate test accuracy\n",
        "test_acc = accuracy_fn(y_true=y_test, y_pred=y_preds)\n",
        "print(f'Test accuracy: {test_acc:.2f}%')\n"
      ],
      "metadata": {
        "colab": {
          "base_uri": "https://localhost:8080/"
        },
        "id": "4c7FzolT1XGY",
        "outputId": "c5d1fee4-0b39-43ce-b760-6d9c24b6aeed"
      },
      "execution_count": 51,
      "outputs": [
        {
          "output_type": "stream",
          "name": "stdout",
          "text": [
            "Test accuracy: 96.00%\n"
          ]
        }
      ]
    },
    {
      "cell_type": "markdown",
      "source": [
        "Metrics"
      ],
      "metadata": {
        "id": "K-K3L9tTC5F4"
      }
    },
    {
      "cell_type": "code",
      "source": [
        "from sklearn import metrics\n",
        "\n",
        "# Convert the tensors to numpy arrays\n",
        "y_test_np = y_test.cpu().numpy()\n",
        "y_preds_np = y_preds.cpu().numpy()\n",
        "\n",
        "# Calcular la matriz de confusión\n",
        "print(metrics.classification_report(y_test_np, y_preds_np))\n",
        "\n",
        "cm = metrics.confusion_matrix(y_test_np, y_preds_np, normalize = 'true')\n",
        "plt.figure(figsize=(6, 5))\n",
        "sns.set(font_scale=.8)\n",
        "ax = sns.heatmap(cm, annot=True, fmt='.2f', cmap='bwr', vmin=0, vmax=1)\n",
        "plt.xticks(fontsize=8)\n",
        "plt.yticks(fontsize=8)\n",
        "#plt.title('Confusion matrix')\n",
        "plt.xlabel('Predicted', fontsize=8)\n",
        "plt.ylabel('True', fontsize=8)\n",
        "plt.show()"
      ],
      "metadata": {
        "colab": {
          "base_uri": "https://localhost:8080/",
          "height": 661
        },
        "id": "Zgo-mUoPC2_i",
        "outputId": "d8cee351-97b5-4aba-b15e-33db9b9199fa"
      },
      "execution_count": 53,
      "outputs": [
        {
          "output_type": "stream",
          "name": "stdout",
          "text": [
            "              precision    recall  f1-score   support\n",
            "\n",
            "           0       0.96      0.88      0.92        25\n",
            "           1       1.00      0.96      0.98        25\n",
            "           2       1.00      1.00      1.00        25\n",
            "           3       0.89      1.00      0.94        25\n",
            "\n",
            "    accuracy                           0.96       100\n",
            "   macro avg       0.96      0.96      0.96       100\n",
            "weighted avg       0.96      0.96      0.96       100\n",
            "\n"
          ]
        },
        {
          "output_type": "display_data",
          "data": {
            "text/plain": [
              "<Figure size 600x500 with 2 Axes>"
            ],
            "image/png": "[encoded data removed]"
          },
          "metadata": {}
        }
      ]
    },
    {
      "cell_type": "markdown",
      "source": [
        "Decision boundary"
      ],
      "metadata": {
        "id": "Pi3m6ONVEs7v"
      }
    },
    {
      "cell_type": "code",
      "source": [
        "def plot_decision_boundary(model: torch.nn.Module, X: torch.Tensor, y: torch.Tensor):\n",
        "    \"\"\"Plots decision boundaries of model predicting on X in comparison to y.\n",
        "\n",
        "    Source - https://madewithml.com/courses/foundations/neural-networks/ (with modifications)\n",
        "    \"\"\"\n",
        "    # Put everything to CPU (works better with NumPy + Matplotlib)\n",
        "    model.to(\"cpu\")\n",
        "    X, y = X.to(\"cpu\"), y.to(\"cpu\")\n",
        "\n",
        "    # Setup prediction boundaries and grid\n",
        "    x_min, x_max = X[:, 0].min() - 0.1, X[:, 0].max() + 0.1\n",
        "    y_min, y_max = X[:, 1].min() - 0.1, X[:, 1].max() + 0.1\n",
        "    xx, yy = np.meshgrid(np.linspace(x_min, x_max, 101), np.linspace(y_min, y_max, 101))\n",
        "\n",
        "    # Make features\n",
        "    X_to_pred_on = torch.from_numpy(np.column_stack((xx.ravel(), yy.ravel()))).float()\n",
        "\n",
        "    # Make predictions\n",
        "    model.eval()\n",
        "    with torch.inference_mode():\n",
        "        y_logits = model(X_to_pred_on)\n",
        "\n",
        "    # Test for multi-class or binary and adjust logits to prediction labels\n",
        "    if len(torch.unique(y)) > 2:\n",
        "        y_pred = torch.softmax(y_logits, dim=1).argmax(dim=1)  # mutli-class\n",
        "    else:\n",
        "        y_pred = torch.round(torch.sigmoid(y_logits))  # binary\n",
        "\n",
        "    # Reshape preds and plot\n",
        "    y_pred = y_pred.reshape(xx.shape).detach().numpy()\n",
        "    plt.contourf(xx, yy, y_pred, cmap=plt.cm.RdYlBu, alpha=0.7)\n",
        "    plt.scatter(X[:, 0], X[:, 1], c=y, s=40, cmap=plt.cm.RdYlBu)\n",
        "    plt.xlim(xx.min(), xx.max())\n",
        "    plt.ylim(yy.min(), yy.max())"
      ],
      "metadata": {
        "id": "hYWhxB2yEvl1"
      },
      "execution_count": 54,
      "outputs": []
    },
    {
      "cell_type": "code",
      "source": [
        "# tensors for training\n",
        "x_tr = x_train_tensor.to(device)\n",
        "y_tr = y_train_tensor.to(device)\n"
      ],
      "metadata": {
        "id": "vNhJMmpQFK8o"
      },
      "execution_count": 55,
      "outputs": []
    },
    {
      "cell_type": "code",
      "source": [
        "plt.figure(figsize=(12, 6))\n",
        "plt.subplot(1, 2, 1)\n",
        "plt.title(\"Train\")\n",
        "plot_decision_boundary(model, x_tr, y_tr)\n",
        "plt.subplot(1, 2, 2)\n",
        "plt.title(\"Test\")\n",
        "plot_decision_boundary(model, x_test, y_test)"
      ],
      "metadata": {
        "colab": {
          "base_uri": "https://localhost:8080/",
          "height": 535
        },
        "id": "CsZBBPpIFe6q",
        "outputId": "9afbdac8-a275-41f0-920d-e97fae50618d"
      },
      "execution_count": 56,
      "outputs": [
        {
          "output_type": "display_data",
          "data": {
            "text/plain": [
              "<Figure size 1200x600 with 2 Axes>"
            ],
            "image/png": "[encoded data removed]"
          },
          "metadata": {}
        }
      ]
    }
  ],
  "metadata": {
    "kernelspec": {
      "display_name": "Python 3",
      "language": "python",
      "name": "python3"
    },
    "language_info": {
      "codemirror_mode": {
        "name": "ipython",
        "version": 3
      },
      "file_extension": ".py",
      "mimetype": "text/x-python",
      "name": "python",
      "nbconvert_exporter": "python",
      "pygments_lexer": "ipython3",
      "version": "3.7.13"
    },
    "colab": {
      "provenance": [],
      "toc_visible": true,
      "include_colab_link": true
    },
    "accelerator": "GPU",
    "gpuClass": "standard"
  },
  "nbformat": 4,
  "nbformat_minor": 0
}